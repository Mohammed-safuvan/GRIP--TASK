{
 "cells": [
  {
   "cell_type": "markdown",
   "id": "53b0ed1f",
   "metadata": {},
   "source": [
    "# TASK  1: Prediction Using Supervised ML\n",
    "\n",
    "\n",
    "\n",
    "Author : MOHAMMED SAFUVAN\n",
    "\n",
    "BATCH #GRIP JUNE22\n"
   ]
  },
  {
   "cell_type": "markdown",
   "id": "5ef1bfe3",
   "metadata": {},
   "source": [
    "#  Importing the libraries\n"
   ]
  },
  {
   "cell_type": "code",
   "execution_count": 3,
   "id": "cd1fa87d",
   "metadata": {},
   "outputs": [],
   "source": [
    "import pandas as pd\n",
    "import numpy as np"
   ]
  },
  {
   "cell_type": "markdown",
   "id": "0bc0c709",
   "metadata": {},
   "source": [
    "#  Reading data from the given link\n",
    "\n",
    "* The head () in Python returns the series with the first few rows (by default 5)"
   ]
  },
  {
   "cell_type": "code",
   "execution_count": 7,
   "id": "5e177062",
   "metadata": {},
   "outputs": [
    {
     "data": {
      "text/html": [
       "<div>\n",
       "<style scoped>\n",
       "    .dataframe tbody tr th:only-of-type {\n",
       "        vertical-align: middle;\n",
       "    }\n",
       "\n",
       "    .dataframe tbody tr th {\n",
       "        vertical-align: top;\n",
       "    }\n",
       "\n",
       "    .dataframe thead th {\n",
       "        text-align: right;\n",
       "    }\n",
       "</style>\n",
       "<table border=\"1\" class=\"dataframe\">\n",
       "  <thead>\n",
       "    <tr style=\"text-align: right;\">\n",
       "      <th></th>\n",
       "      <th>Hours</th>\n",
       "      <th>Scores</th>\n",
       "    </tr>\n",
       "  </thead>\n",
       "  <tbody>\n",
       "    <tr>\n",
       "      <th>0</th>\n",
       "      <td>2.5</td>\n",
       "      <td>21</td>\n",
       "    </tr>\n",
       "    <tr>\n",
       "      <th>1</th>\n",
       "      <td>5.1</td>\n",
       "      <td>47</td>\n",
       "    </tr>\n",
       "    <tr>\n",
       "      <th>2</th>\n",
       "      <td>3.2</td>\n",
       "      <td>27</td>\n",
       "    </tr>\n",
       "    <tr>\n",
       "      <th>3</th>\n",
       "      <td>8.5</td>\n",
       "      <td>75</td>\n",
       "    </tr>\n",
       "    <tr>\n",
       "      <th>4</th>\n",
       "      <td>3.5</td>\n",
       "      <td>30</td>\n",
       "    </tr>\n",
       "  </tbody>\n",
       "</table>\n",
       "</div>"
      ],
      "text/plain": [
       "   Hours  Scores\n",
       "0    2.5      21\n",
       "1    5.1      47\n",
       "2    3.2      27\n",
       "3    8.5      75\n",
       "4    3.5      30"
      ]
     },
     "execution_count": 7,
     "metadata": {},
     "output_type": "execute_result"
    }
   ],
   "source": [
    "data=pd.read_csv(\"http://bit.ly/w-data\")\n",
    "data.head()"
   ]
  },
  {
   "cell_type": "markdown",
   "id": "51954361",
   "metadata": {},
   "source": [
    "# describe() \n",
    "# The describe () method returns description of the data in the DataFrame."
   ]
  },
  {
   "cell_type": "code",
   "execution_count": 9,
   "id": "2cbf69e3",
   "metadata": {},
   "outputs": [
    {
     "data": {
      "text/html": [
       "<div>\n",
       "<style scoped>\n",
       "    .dataframe tbody tr th:only-of-type {\n",
       "        vertical-align: middle;\n",
       "    }\n",
       "\n",
       "    .dataframe tbody tr th {\n",
       "        vertical-align: top;\n",
       "    }\n",
       "\n",
       "    .dataframe thead th {\n",
       "        text-align: right;\n",
       "    }\n",
       "</style>\n",
       "<table border=\"1\" class=\"dataframe\">\n",
       "  <thead>\n",
       "    <tr style=\"text-align: right;\">\n",
       "      <th></th>\n",
       "      <th>Hours</th>\n",
       "      <th>Scores</th>\n",
       "    </tr>\n",
       "  </thead>\n",
       "  <tbody>\n",
       "    <tr>\n",
       "      <th>count</th>\n",
       "      <td>25.000000</td>\n",
       "      <td>25.000000</td>\n",
       "    </tr>\n",
       "    <tr>\n",
       "      <th>mean</th>\n",
       "      <td>5.012000</td>\n",
       "      <td>51.480000</td>\n",
       "    </tr>\n",
       "    <tr>\n",
       "      <th>std</th>\n",
       "      <td>2.525094</td>\n",
       "      <td>25.286887</td>\n",
       "    </tr>\n",
       "    <tr>\n",
       "      <th>min</th>\n",
       "      <td>1.100000</td>\n",
       "      <td>17.000000</td>\n",
       "    </tr>\n",
       "    <tr>\n",
       "      <th>25%</th>\n",
       "      <td>2.700000</td>\n",
       "      <td>30.000000</td>\n",
       "    </tr>\n",
       "    <tr>\n",
       "      <th>50%</th>\n",
       "      <td>4.800000</td>\n",
       "      <td>47.000000</td>\n",
       "    </tr>\n",
       "    <tr>\n",
       "      <th>75%</th>\n",
       "      <td>7.400000</td>\n",
       "      <td>75.000000</td>\n",
       "    </tr>\n",
       "    <tr>\n",
       "      <th>max</th>\n",
       "      <td>9.200000</td>\n",
       "      <td>95.000000</td>\n",
       "    </tr>\n",
       "  </tbody>\n",
       "</table>\n",
       "</div>"
      ],
      "text/plain": [
       "           Hours     Scores\n",
       "count  25.000000  25.000000\n",
       "mean    5.012000  51.480000\n",
       "std     2.525094  25.286887\n",
       "min     1.100000  17.000000\n",
       "25%     2.700000  30.000000\n",
       "50%     4.800000  47.000000\n",
       "75%     7.400000  75.000000\n",
       "max     9.200000  95.000000"
      ]
     },
     "execution_count": 9,
     "metadata": {},
     "output_type": "execute_result"
    }
   ],
   "source": [
    "data.describe()"
   ]
  },
  {
   "cell_type": "markdown",
   "id": "8b28a680",
   "metadata": {},
   "source": [
    "#  Importing  plotting graphs library\n",
    "\n",
    "* The Python Seaborn library lets you visualize data using pair plots that produce a matrix of relationships between each variable in the dataset.\n",
    "\n",
    "* Python Matplotlib is a library which basically serves the purpose of Data Visualization"
   ]
  },
  {
   "cell_type": "code",
   "execution_count": 11,
   "id": "9a84d3e7",
   "metadata": {},
   "outputs": [
    {
     "name": "stderr",
     "output_type": "stream",
     "text": [
      "D:\\Users\\Safuvan\\anaconda3\\lib\\site-packages\\seaborn\\distributions.py:2619: FutureWarning: `distplot` is a deprecated function and will be removed in a future version. Please adapt your code to use either `displot` (a figure-level function with similar flexibility) or `histplot` (an axes-level function for histograms).\n",
      "  warnings.warn(msg, FutureWarning)\n"
     ]
    },
    {
     "data": {
      "image/png": "[encoded data removed]",
      "text/plain": [
       "<Figure size 504x360 with 1 Axes>"
      ]
     },
     "metadata": {},
     "output_type": "display_data"
    }
   ],
   "source": [
    "import seaborn as sns\n",
    "import matplotlib.pyplot as plt\n",
    "sns.set(rc={'figure.figsize':(7,5)})\n",
    "sns.distplot(data.Scores,bins=10)\n",
    "plt.show()"
   ]
  },
  {
   "cell_type": "markdown",
   "id": "1d0bfc44",
   "metadata": {},
   "source": [
    "# Preparing the Data"
   ]
  },
  {
   "cell_type": "code",
   "execution_count": 13,
   "id": "ed6b24e4",
   "metadata": {},
   "outputs": [],
   "source": [
    "x=data.iloc[:,:-1].values\n",
    "y=data.iloc[:, -1].values"
   ]
  },
  {
   "cell_type": "markdown",
   "id": "72c9f6d1",
   "metadata": {},
   "source": [
    "# Splitting the Dataset\n",
    "   * train_test_split() method is available in the sklearnlibrary to split the data into train test sets.\n",
    "   \n",
    "   * Training dataset use to teach a machine learning application to recognize patterns.\n",
    "   \n",
    "   * Testing dataset is used to  evaluate the model's accuracy.\n",
    "   \n",
    "   * Print the shape of the splitted dataset"
   ]
  },
  {
   "cell_type": "code",
   "execution_count": 21,
   "id": "e6b25daa",
   "metadata": {},
   "outputs": [
    {
     "name": "stdout",
     "output_type": "stream",
     "text": [
      "training samples: (17, 1)\n",
      "test samples: (8, 1)\n",
      "train samples: (17,)\n",
      "test samples: (8,)\n"
     ]
    }
   ],
   "source": [
    "from sklearn.model_selection import train_test_split\n",
    "x_train,x_test,y_train,y_test=train_test_split(x,y,test_size=0.3,random_state=1)\n",
    "print(\"training samples:\",x_train.shape)\n",
    "print(\"test samples:\",x_test.shape)\n",
    "print(\"train samples:\",y_train.shape)\n",
    "print(\"test samples:\",y_test.shape)"
   ]
  },
  {
   "cell_type": "markdown",
   "id": "108dbfbf",
   "metadata": {},
   "source": [
    "# Training the Model\n",
    "\n",
    "   * Import LinearRegression algorithm from sklearn\n",
    "   \n",
    "   * Linear regression shows the linear relationship between two variables."
   ]
  },
  {
   "cell_type": "code",
   "execution_count": 25,
   "id": "070d9eac",
   "metadata": {},
   "outputs": [
    {
     "name": "stdout",
     "output_type": "stream",
     "text": [
      "actual value:\n",
      " [17 42 24 75 54 85 67 69]\n",
      "predicted values:\n",
      " [ 9.93952968 32.84320126 18.26813752 86.97915227 48.45934097 78.65054442\n",
      " 61.99332873 75.52731648]\n"
     ]
    }
   ],
   "source": [
    "from sklearn.linear_model import LinearRegression\n",
    "\n",
    "regressor=LinearRegression()\n",
    "regressor.fit(x_train,y_train)\n",
    "print(\"actual value:\\n\",y_test)\n",
    "\n",
    "y_pred=regressor.predict(x_test)\n",
    "print(\"predicted values:\\n\",y_pred)"
   ]
  },
  {
   "cell_type": "markdown",
   "id": "46c9fd8a",
   "metadata": {},
   "source": [
    "# Predicting the test result\n",
    "\n",
    "  *  A scatter plot is a diagram where each value in the data set is represented by a dot.\n"
   ]
  },
  {
   "cell_type": "code",
   "execution_count": 28,
   "id": "59294fe0",
   "metadata": {},
   "outputs": [
    {
     "data": {
      "image/png": "[encoded data removed]",
      "text/plain": [
       "<Figure size 504x360 with 1 Axes>"
      ]
     },
     "metadata": {},
     "output_type": "display_data"
    }
   ],
   "source": [
    "import matplotlib.pyplot as plt\n",
    "plt.scatter(x,y)\n",
    "plt.show()"
   ]
  },
  {
   "cell_type": "markdown",
   "id": "c1bf68d8",
   "metadata": {},
   "source": [
    "# What Will be the Predicted Score if a Student Studied For 9.25hrs/day"
   ]
  },
  {
   "cell_type": "code",
   "execution_count": 30,
   "id": "8b8a8b24",
   "metadata": {},
   "outputs": [
    {
     "name": "stdout",
     "output_type": "stream",
     "text": [
      "   actual  predicted\n",
      "0      17   9.939530\n",
      "1      42  32.843201\n",
      "2      24  18.268138\n",
      "3      75  86.979152\n",
      "4      54  48.459341\n",
      "5      85  78.650544\n",
      "6      67  61.993329\n",
      "7      69  75.527316\n"
     ]
    }
   ],
   "source": [
    "datas=pd.DataFrame({\"actual\":y_test,\"predicted\":y_pred})\n",
    "print(datas)"
   ]
  },
  {
   "cell_type": "code",
   "execution_count": 31,
   "id": "48134fb8",
   "metadata": {},
   "outputs": [
    {
     "name": "stdout",
     "output_type": "stream",
     "text": [
      "no of hours=[[9.25]]\n",
      "predicted score=94.78722212956563\n"
     ]
    }
   ],
   "source": [
    "hours=([[9.25]])\n",
    "pred = regressor.predict(hours)\n",
    "print(\"no of hours={}\".format(hours))\n",
    "print(\"predicted score={}\".format(pred[0]))"
   ]
  },
  {
   "cell_type": "markdown",
   "id": "e87c1be9",
   "metadata": {},
   "source": [
    "# Evaluting the Performance Of the Model\n"
   ]
  },
  {
   "cell_type": "code",
   "execution_count": 37,
   "id": "fb3d6141",
   "metadata": {},
   "outputs": [
    {
     "name": "stdout",
     "output_type": "stream",
     "text": [
      "Mean Squared Error Is: 56.092330905646705\n",
      "\n",
      "R2 Error Is: 0.8933827573294114\n",
      "\n",
      "RMSE: 7.489481350911204\n"
     ]
    }
   ],
   "source": [
    "from sklearn.metrics import mean_squared_error,r2_score\n",
    "\n",
    "MSE=mean_squared_error(y_test,y_pred)\n",
    "print(\"Mean Squared Error Is:\",MSE)\n",
    "R2=r2_score(y_test,y_pred)\n",
    "print(\"\\nR2 Error Is:\",R2)\n",
    "print(\"\\nRMSE:\",np.sqrt(mean_squared_error(y_test,y_pred)))"
   ]
  },
  {
   "cell_type": "code",
   "execution_count": null,
   "id": "ea2967c3",
   "metadata": {},
   "outputs": [],
   "source": []
  }
 ],
 "metadata": {
  "kernelspec": {
   "display_name": "Python 3 (ipykernel)",
   "language": "python",
   "name": "python3"
  },
  "language_info": {
   "codemirror_mode": {
    "name": "ipython",
    "version": 3
   },
   "file_extension": ".py",
   "mimetype": "text/x-python",
   "name": "python",
   "nbconvert_exporter": "python",
   "pygments_lexer": "ipython3",
   "version": "3.9.7"
  }
 },
 "nbformat": 4,
 "nbformat_minor": 5
}
